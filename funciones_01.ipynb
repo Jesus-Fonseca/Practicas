{
  "nbformat": 4,
  "nbformat_minor": 0,
  "metadata": {
    "kernelspec": {
      "display_name": "Python 3",
      "language": "python",
      "name": "python3"
    },
    "language_info": {
      "codemirror_mode": {
        "name": "ipython",
        "version": 3
      },
      "file_extension": ".py",
      "mimetype": "text/x-python",
      "name": "python",
      "nbconvert_exporter": "python",
      "pygments_lexer": "ipython3",
      "version": "3.8.2"
    },
    "colab": {
      "name": "funciones_01.ipynb",
      "provenance": [],
      "toc_visible": true,
      "include_colab_link": true
    }
  },
  "cells": [
    {
      "cell_type": "markdown",
      "metadata": {
        "id": "view-in-github",
        "colab_type": "text"
      },
      "source": [
        "<a href=\"https://colab.research.google.com/github/Jesus-Fonseca/Practicas_cuarentena/blob/master/funciones_01.ipynb\" target=\"_parent\"><img src=\"https://colab.research.google.com/assets/colab-badge.svg\" alt=\"Open In Colab\"/></a>"
      ]
    },
    {
      "cell_type": "markdown",
      "metadata": {
        "id": "7SFbXpP26FUh",
        "colab_type": "text"
      },
      "source": [
        "# 1. Funciones\n",
        "\n",
        "\n",
        "En esta sección se retoma la el concepto de funciones que son bloques de códigos que están desieñados para hacer un trabajo específico. Una vez que se desea reaizar una tarea que ya ha sido desarrollada dentro de función, simplemente se tiene que mandar a llamar o invocar a la función.\n",
        "\n",
        "En esta sección también se muestra cómo mandar información a una funcion diseñanada para procesar datos y  regresar algún valor o ejecutar algún comando. \n",
        "\n",
        "Finalmente se muestra como almacenar funciones en archivos separados llamandos *módulos* que ayudan a organizar mejor el programa principal."
      ]
    },
    {
      "cell_type": "markdown",
      "metadata": {
        "id": "iHlRgS8o6FUi",
        "colab_type": "text"
      },
      "source": [
        "## 1.1. Definiendo una función ##\n",
        "\n",
        "Aquí se muestra un ejemplo de una función llamada $\\verb|greet_user|$ que simplemente imprime en la terminal una saludo"
      ]
    },
    {
      "cell_type": "code",
      "metadata": {
        "id": "L74JrjZJ6FUj",
        "colab_type": "code",
        "colab": {
          "base_uri": "https://localhost:8080/",
          "height": 34
        },
        "outputId": "7e65cd51-a6df-4b8e-a01b-afa0589373ab"
      },
      "source": [
        "########################################\n",
        "# CELDA 1 : Definición de una función  #\n",
        "########################################\n",
        "\n",
        "\n",
        "# Esta es la definición de una función\n",
        "def greet_user():\n",
        "    \"\"\"Mostrar un simple saludo.\"\"\"\n",
        "    print(\"Hola!\")\n",
        "\n",
        "\n",
        "# Ya estamos fuera de la función y se mandará a llamar\n",
        "greet_user()"
      ],
      "execution_count": 3,
      "outputs": [
        {
          "output_type": "stream",
          "text": [
            "Hola!\n"
          ],
          "name": "stdout"
        }
      ]
    },
    {
      "cell_type": "markdown",
      "metadata": {
        "id": "E9IlbaQp6FUm",
        "colab_type": "text"
      },
      "source": [
        "En este ejemplo se muestra la estructura más simple de una fucnión . En la línea $\\verb|1|$ se utiliza la palabra reservada $\\verb|def|$ para notificar al intérprete de Python que comienza una función, seguido de $\\verb|def|$ sigue el nombre de la función y después unos parétesis vacíos, estos paréntesis vacíos implican que la fución no recibe ninguna información par poder trabajar, después de los paréntesis van dos puntos, estos indican que el código que sigue a continuación es el cuerpo de la función. Observe que todas las líneas de código pertenecientes a la fución deben de guardar la misma sangría. \n",
        "\n",
        "\n",
        "### 1.1.1 Pasando información a la función\n",
        "\n",
        "La función anterior sólo puede decir Hola, a continuación se muestra una modificación a la función para que ésta pueda mostrar un saludo personalizado."
      ]
    },
    {
      "cell_type": "code",
      "metadata": {
        "id": "0d_Rcu0U6FUn",
        "colab_type": "code",
        "colab": {}
      },
      "source": [
        "#########################################\n",
        "# CELDA 2 : Paso de info a la función   #\n",
        "#########################################\n",
        "\n",
        "\n",
        "# Esta es la definición de una función \n",
        "def greet_user(username):\n",
        "    \"\"\" Mostrar un saludo personalizado\"\"\"\n",
        "    print(\"Hola \"+username.title()+\"!\")\n",
        "    \n",
        "#Ya estamos fuera de la función y se mandará a llamar\n",
        "greet_user(\"Juan Pérez\")"
      ],
      "execution_count": 0,
      "outputs": []
    },
    {
      "cell_type": "markdown",
      "metadata": {
        "id": "-lBeKPoo6FUq",
        "colab_type": "text"
      },
      "source": [
        "### 1.1.2 Ejercicios\n",
        "\n",
        "#### 1.1.2.1.Mensaje.\n",
        "Escriba una función llamanda $\\verb|display_message()|$ que imprima en la pantalla un mensaje que indique los temas que se han visto hasta el momento.\n",
        "\n",
        "#### 1.1.2.2 Libro favorito.\n",
        "Escriba una función que se llame $\\verb|libro_favorito()|$ que acepte un parámetro llamado $\\verb|titulo|$ y que despligue en la terminal *Tu libro favorito es (nombre del libro)*"
      ]
    },
    {
      "cell_type": "markdown",
      "metadata": {
        "id": "MExcNHKr6FUq",
        "colab_type": "text"
      },
      "source": [
        "## 1.2. Paso de argumentos\n",
        "\n",
        "En ocasiones una fución necesita múltiples parámetros, dentro de Python existen diferentes maneras de pasar los argumentos a una función, el uso y la implementación dependerá de la necesidad del usuario y programador.\n"
      ]
    },
    {
      "cell_type": "markdown",
      "metadata": {
        "id": "qB38_CzP6FUr",
        "colab_type": "text"
      },
      "source": [
        "### 1.2.1 Argumentos Posicionales\n",
        "\n",
        "Ejecute las siguientes celdas y observe los resultados"
      ]
    },
    {
      "cell_type": "code",
      "metadata": {
        "id": "RzZC8HFa6FUr",
        "colab_type": "code",
        "colab": {}
      },
      "source": [
        "#########################################\n",
        "# CELDA 3 : Descripción de mascota      #\n",
        "#########################################\n",
        "\n",
        "\n",
        "def descripcion_mascota(tipo_animal, nombre):\n",
        "    \"\"\"Muestra la información de una mascota.\"\"\"\n",
        "    print(\"\\nTengo un(a) \" + tipo_animal + \" como mascota.\")\n",
        "    print(\"Mi \" + tipo_animal +  \" se llama \" + nombre)"
      ],
      "execution_count": 0,
      "outputs": []
    },
    {
      "cell_type": "code",
      "metadata": {
        "id": "E7w47QnU6FUu",
        "colab_type": "code",
        "colab": {}
      },
      "source": [
        "#########################################\n",
        "# CELDA 4 :                             #\n",
        "#########################################\n",
        "\n",
        "\n",
        "descripcion_mascota(\"perro\",\"Filemon\")"
      ],
      "execution_count": 0,
      "outputs": []
    },
    {
      "cell_type": "code",
      "metadata": {
        "id": "Znin_GYJ6FUx",
        "colab_type": "code",
        "colab": {}
      },
      "source": [
        "#########################################\n",
        "# CELDA 5 :                             #\n",
        "#########################################\n",
        "\n",
        "\n",
        "descripcion_mascota(\"Michi\",\"gato\")"
      ],
      "execution_count": 0,
      "outputs": []
    },
    {
      "cell_type": "markdown",
      "metadata": {
        "id": "TIUZVDhL6FUz",
        "colab_type": "text"
      },
      "source": [
        "La función se llama $\\verb|descripcion_mascota|$ y se puede observar en su implementación en la *celda 3* observe que recibe dos parámetros que deben de ser de tipo *string*, e imprime la información referente a mascota, en la *celda 4 y 5* se manda a llamar la función y si se observa el resultado de la celda 4 los enunciados muestran coherencia, mientras que en la celda 5 son incoherentes. \n",
        "\n",
        "La diferncia entre las celdas fue el orden de los argumentos, en la celda 4 \"perro\" lo asinga a \"tipo de animal\" y \"Filemon\" lo asigna a nombre, mientras que en la celda 5 \"Michi\" lo asigna \"tipo de animal\", mientras que \"gato\" lo asinga a \"nombre\".\n",
        "\n",
        "A esta forma de mandar los parámetros en los que es de gran importancia el orden en que se mandan los mismos, se le conoce como **Argumentos posicionales**"
      ]
    },
    {
      "cell_type": "markdown",
      "metadata": {
        "id": "RfoDt4fv6FU0",
        "colab_type": "text"
      },
      "source": [
        "### 1.2.2 Argumentos \"Keyword\"\n",
        "\n",
        "Ejecute la *celda 3* y depués las *celda 6 y 7*"
      ]
    },
    {
      "cell_type": "code",
      "metadata": {
        "id": "ucRqRLx_6FU1",
        "colab_type": "code",
        "colab": {
          "base_uri": "https://localhost:8080/",
          "height": 197
        },
        "outputId": "cdc2137a-259f-499d-c5b8-71c3da0d2382"
      },
      "source": [
        "#########################################\n",
        "# CELDA 6 :                             #\n",
        "#########################################\n",
        "\n",
        "\n",
        "descripcion_mascota(tipo_animal = \"hamster\",nombre = \"Harry\")"
      ],
      "execution_count": 1,
      "outputs": [
        {
          "output_type": "error",
          "ename": "NameError",
          "evalue": "ignored",
          "traceback": [
            "\u001b[0;31m---------------------------------------------------------------------------\u001b[0m",
            "\u001b[0;31mNameError\u001b[0m                                 Traceback (most recent call last)",
            "\u001b[0;32m<ipython-input-1-f9cd408e2ad5>\u001b[0m in \u001b[0;36m<module>\u001b[0;34m()\u001b[0m\n\u001b[1;32m      1\u001b[0m \u001b[0;34m\u001b[0m\u001b[0m\n\u001b[1;32m      2\u001b[0m \u001b[0;34m\u001b[0m\u001b[0m\n\u001b[0;32m----> 3\u001b[0;31m \u001b[0mdescripcion_mascota\u001b[0m\u001b[0;34m(\u001b[0m\u001b[0mtipo_animal\u001b[0m \u001b[0;34m=\u001b[0m \u001b[0;34m\"hamster\"\u001b[0m\u001b[0;34m,\u001b[0m\u001b[0mnombre\u001b[0m \u001b[0;34m=\u001b[0m \u001b[0;34m\"Harry\"\u001b[0m\u001b[0;34m)\u001b[0m\u001b[0;34m\u001b[0m\u001b[0;34m\u001b[0m\u001b[0m\n\u001b[0m",
            "\u001b[0;31mNameError\u001b[0m: name 'descripcion_mascota' is not defined"
          ]
        }
      ]
    },
    {
      "cell_type": "code",
      "metadata": {
        "scrolled": true,
        "id": "aZCff1Jx6FU4",
        "colab_type": "code",
        "colab": {}
      },
      "source": [
        "#########################################\n",
        "# CELDA 7 :                             #\n",
        "#########################################\n",
        "\n",
        "\n",
        "descripcion_mascota(nombre = \"Cuco\",tipo_animal = \"Hurón\")"
      ],
      "execution_count": 0,
      "outputs": []
    },
    {
      "cell_type": "markdown",
      "metadata": {
        "id": "ukmn8fUj6FU7",
        "colab_type": "text"
      },
      "source": [
        "Observe que ahora el orden de los argumentos no importa, esto se debe a que desde que se manda a llamar la función se hace la asignación a los variables locales de la función. Es de gran importancia que note que la implementación de la función no cambió en nada, los cambios se deben de hacer al momento de llamar la función."
      ]
    },
    {
      "cell_type": "markdown",
      "metadata": {
        "id": "km5J2q2T6FU7",
        "colab_type": "text"
      },
      "source": [
        "## 1.2.3 Valores predeterminados\n",
        "\n",
        "En la definición de las funciones se puede definir valores predeterminados para los parámetros. Si un parámetro se manda desde la llamada de la función Python utiliza el valor que se ha mandado en la invocación de la función y deshecha el predeterminado, sino se ha manda el parámetro desde la llamada de la función entonces se utilizará el valor predeterminado. Observe el código de las celda 8 y ejecute la celda para observar el comportamiento de la misma."
      ]
    },
    {
      "cell_type": "code",
      "metadata": {
        "id": "XKP3M8rK6FU8",
        "colab_type": "code",
        "colab": {}
      },
      "source": [
        "#########################################\n",
        "# CELDA 8 : Valores predeterminados     #\n",
        "#########################################\n",
        "def descripcion_mascota(nombre,tipo_animal = \"perro\"):\n",
        "    \"\"\"Muestra la información de una mascota\"\"\"\n",
        "    print(\"\\nUsted tiene un@ \" + tipo_animal +\".\" )\n",
        "    print(\"Mi \" + tipo_animal + \" se llama \" + nombre.title() +\".\")\n",
        "\n",
        "descripcion_mascota(nombre=\"Orejas\")"
      ],
      "execution_count": 0,
      "outputs": []
    },
    {
      "cell_type": "markdown",
      "metadata": {
        "id": "HBnfJs4P6FU-",
        "colab_type": "text"
      },
      "source": [
        "## 1.3 Ejercicios\n",
        "\n",
        "### 1.3.1 Playera\n",
        "\n",
        "Escriba una función llamanda $\\verb|hacerPlayera()|$ que acepte como argumento, el tamaño y un texto que apararecerá cerigrafeado en la playera. La función deberá imprimir en la terminal algo parecido a lo siguiente\n",
        "\n",
        "*La playera es talla \"Grande\" y el texto a cerigrafear es: \"Hola amigos\"*\n",
        "\n",
        "Para verificar el correcto funcionamiento de la función, genere un programa que la invoque. \n",
        "\n"
      ]
    },
    {
      "cell_type": "code",
      "metadata": {
        "id": "URE76ERL6FU_",
        "colab_type": "code",
        "colab": {
          "base_uri": "https://localhost:8080/",
          "height": 51
        },
        "outputId": "65f540ab-30fd-49f5-d428-9f390b083451"
      },
      "source": [
        "####  Prgrama de Playeras  ###\n",
        "def hacerPlayera(tamaño,texto):\n",
        "  print (\"La playera es talla: \"+tamaño)\n",
        "  print (\"El texto a cerigrafear es: \"+texto)\n",
        "\n",
        "hacerPlayera ('Grande','Hola amigos')\n",
        "\n",
        "    "
      ],
      "execution_count": 7,
      "outputs": [
        {
          "output_type": "stream",
          "text": [
            "La playera es talla: Grande\n",
            "El texto a cerigrafear es: Hola amigos\n"
          ],
          "name": "stdout"
        }
      ]
    },
    {
      "cell_type": "markdown",
      "metadata": {
        "id": "huMZvDpY6FVD",
        "colab_type": "text"
      },
      "source": [
        "### 1.3.2 Playeras Grandes\n",
        "\n",
        "Modique la función $\\verb|hacerPlayera()|$ de tal manera que las playeras grandes sean predeterminadas y el texto predefinido para la cerigrafear sea $\\verb|yo <3 Python|$.\n",
        "\n",
        "Para verificar el correcto funcionamiento del módulo:\n",
        "\n",
        "1. Genere una playera grande utlizando el texto predeterminado.\n",
        "\n",
        "2. Genere una playera mediana con el texto predeterminado.\n",
        "\n",
        "3. Genere una playera de talla distnta a grande con un texto distinto al predeterminado.\n",
        "\n",
        "\n"
      ]
    },
    {
      "cell_type": "code",
      "metadata": {
        "id": "qRV3ERRp6FVD",
        "colab_type": "code",
        "colab": {
          "base_uri": "https://localhost:8080/",
          "height": 119
        },
        "outputId": "68509927-3075-4683-94f9-445e566c2bf8"
      },
      "source": [
        "###    Programa de Playeras grandes ###\n",
        "def hacerPlayera(tamaño=\"Grande\",texto=\"yo <3 Python\"):\n",
        "  print (\"La playera es talla: \"+tamaño)\n",
        "  print (\"El texto a cerigrafear es: \"+texto)\n",
        "\n",
        "hacerPlayera()\n",
        "hacerPlayera('Mediana')\n",
        "hacerPlayera('Extra grande','Hola mundo')"
      ],
      "execution_count": 9,
      "outputs": [
        {
          "output_type": "stream",
          "text": [
            "La playera es talla: Grande\n",
            "El texto a cerigrafear es: yo <3 Python\n",
            "La playera es talla: Mediana\n",
            "El texto a cerigrafear es: yo <3 Python\n",
            "La playera es talla: Extra grande\n",
            "El texto a cerigrafear es: Hola mundo\n"
          ],
          "name": "stdout"
        }
      ]
    },
    {
      "cell_type": "markdown",
      "metadata": {
        "id": "Wa5KIyoc6FVG",
        "colab_type": "text"
      },
      "source": [
        "### 1.3.2 Países y ciudades\n",
        "\n",
        "Escriba una función llamada $\\verb|descripcionCiudad()|$ que acepte como argumentos el nombre de una ciudad y el nombre de un país como argumentos y que imprima en la terminal un texto como: *Xalapa está en México*, *Río de Janeiro está en Brazil*, *París está en Fracia*. Ponga como valor predeterminado \"México\" a la variable país, y llame a la función tres veces donde por lo menos una ciudad no pertenezca al país México.\n",
        "\n"
      ]
    },
    {
      "cell_type": "code",
      "metadata": {
        "id": "lvfrYeAo6FVG",
        "colab_type": "code",
        "colab": {
          "base_uri": "https://localhost:8080/",
          "height": 68
        },
        "outputId": "6bc678b9-0798-495f-ed03-1bf9a8e74200"
      },
      "source": [
        "def descripcionCiudad(ciudad,pais=\"Mexico\"):\n",
        "  print(ciudad + \" esta en \" + pais)\n",
        "\n",
        "descripcionCiudad ('Guadalajara')\n",
        "descripcionCiudad ('Tijuana')\n",
        "descripcionCiudad('Houston')\n",
        "\n"
      ],
      "execution_count": 10,
      "outputs": [
        {
          "output_type": "stream",
          "text": [
            "Guadalajara esta en Mexico\n",
            "Tijuana esta en Mexico\n",
            "Houston esta en Mexico\n"
          ],
          "name": "stdout"
        }
      ]
    },
    {
      "cell_type": "markdown",
      "metadata": {
        "id": "Jny_b-TF6FVJ",
        "colab_type": "text"
      },
      "source": [
        "## 1.4 Valores de regreso\n",
        "\n",
        "## 1.4.1 Introducción.\n",
        "Una función no necesariamente tiene que imprimir texto o mostrar la información que recibe, usualmente, existen funciones que reciben argumentos, los procesan y después regresan al programa principal el o los datos modificados, a éstos datos que la función regresa al programa principal se le conoce como **valor de regreso** o **valor de retorno**, observe el código de la siguiente celda y su comportamiento, en la que se calcula el volumen de un cubo."
      ]
    },
    {
      "cell_type": "code",
      "metadata": {
        "id": "FNo_dqY56FVJ",
        "colab_type": "code",
        "colab": {},
        "outputId": "5bf3f518-758a-45ab-df73-45b149861514"
      },
      "source": [
        "def volumenCubo(longitud_lado):\n",
        "    volumen = longitud_lado**3\n",
        "    return volumen\n",
        "\n",
        "print(\"El volumen de un cubo cuyos lados miden 4cm es: \" + str(volumenCubo(4)) + \" cm^3\")\n",
        "\n"
      ],
      "execution_count": 0,
      "outputs": [
        {
          "output_type": "stream",
          "text": [
            "El volumen de un cubo cuyos lados miden 4cm es: 64 cm^3\n"
          ],
          "name": "stdout"
        }
      ]
    },
    {
      "cell_type": "markdown",
      "metadata": {
        "id": "moJSfnc16FVN",
        "colab_type": "text"
      },
      "source": [
        "Observe que la función $\\verb|volumenCubo(longitud_lado):|$ recibe como argumento un número y dentro de la función eleva ese valor al cubo y lo asigna a la variable local $\\verb|volumen|$ y regresa el valor guardado en $\\verb|volumen|$"
      ]
    },
    {
      "cell_type": "markdown",
      "metadata": {
        "id": "3gEUo54X6FVN",
        "colab_type": "text"
      },
      "source": [
        "## 1.5 Almacenando Funciones en Módulo\n",
        "\n",
        "Una ventaja de las funciones es que se pueden almacenar en archivos distintos de tal manera que el archivo principal no esté tan extenso y sea más sencillo de dar mantenimiento y poder depurar los errores, en otros lenguajes de programación como en C y C++ es equivalente las ilbrerías creadas por los usuarios.\n",
        "\n",
        "En la siguiente celda se muestra un ejemplo de una librería en la que se calcula el área y perímetro de la cara de un cubo, el área, perímetro y volumen de un cubo. "
      ]
    },
    {
      "cell_type": "markdown",
      "metadata": {
        "id": "2DmKgJT56FVO",
        "colab_type": "raw"
      },
      "source": [
        "####       cubo.py     ####\n",
        "def cara_area(lado):\n",
        "\treturn lado**2\n",
        "\n",
        "def cara_perimetro(lado):\n",
        "\treturn lado*4\n",
        "\n",
        "def perimetro(lado):\n",
        "\treturn lado*12\n",
        "\n",
        "def volumen(lado):\n",
        "\treturn lado**3\n",
        "\n",
        "def area(lado):\n",
        "\treturn cara_area(lado)*6\n"
      ]
    },
    {
      "cell_type": "markdown",
      "metadata": {
        "id": "EgTl9gh16FVO",
        "colab_type": "text"
      },
      "source": [
        "Para agregar una sóla función del módulo que se llama $\\verb|cubo.py|$ sólo basta poner al inicio la siguiente directiva:\n",
        "\n",
        "$\\verb|from cubo import cara_area|$"
      ]
    },
    {
      "cell_type": "code",
      "metadata": {
        "id": "IcYSxM2U6FVP",
        "colab_type": "code",
        "colab": {
          "base_uri": "https://localhost:8080/",
          "height": 34
        },
        "outputId": "00c51558-28a1-4ba8-c38c-a83bd66bc8d9"
      },
      "source": [
        "from cubo import cara_area\n",
        "\n",
        "print(\"El área de la cara de un cubo cuyo lado es 2 cm es: \" + str(cara_area(2)))"
      ],
      "execution_count": 12,
      "outputs": [
        {
          "output_type": "stream",
          "text": [
            "El área de la cara de un cubo cuyo lado es 2 cm es: 4\n"
          ],
          "name": "stdout"
        }
      ]
    },
    {
      "cell_type": "markdown",
      "metadata": {
        "id": "FziQl4NE6FVR",
        "colab_type": "text"
      },
      "source": [
        "Para agregar todo el módulo, se pueden agregar todas las funciones una por una, sin embargo, si el módulo tiene muchas funciones no resulta muy práctico, para poder agregar todo el módulo se debe de agregar la siguiente directiva\n",
        "\n",
        "$\\verb|from cubo import *|$"
      ]
    },
    {
      "cell_type": "code",
      "metadata": {
        "id": "u0MxPamU6FVS",
        "colab_type": "code",
        "colab": {
          "base_uri": "https://localhost:8080/",
          "height": 102
        },
        "outputId": "de52bf5d-d29b-4caf-9697-f0ca7ef9096a"
      },
      "source": [
        "from cubo import *\n",
        "\n",
        "print(\"El área de la cara de un cubo cuyo lado es 2 cm es: \" + str(cara_area(2)))\n",
        "\n",
        "print(\"El perímetro de la cara de un cubo de lado de 2cm por lado es: \" + str(cara_perimetro(2)))\n",
        "\n",
        "print(\"El perímetro de un cubo cuyos lados miden 3 cm es:  \" + str(perimetro(3)))\n",
        "\n",
        "print(\"El área de un cubo cuyos lados miden 3 cm es: \" + str(area(3)))\n",
        "\n",
        "print(\"El volumen de un cubo cuyos lados miden 3 cm es: \" + str(volumen(3)))"
      ],
      "execution_count": 13,
      "outputs": [
        {
          "output_type": "stream",
          "text": [
            "El área de la cara de un cubo cuyo lado es 2 cm es: 4\n",
            "El perímetro de la cara de un cubo de lado de 2cm por lado es: 8\n",
            "El perímetro de un cubo cuyos lados miden 3 cm es:  36\n",
            "El área de un cubo cuyos lados miden 3 cm es: 54\n",
            "El volumen de un cubo cuyos lados miden 3 cm es: 27\n"
          ],
          "name": "stdout"
        }
      ]
    },
    {
      "cell_type": "markdown",
      "metadata": {
        "id": "mvh2xf046FVV",
        "colab_type": "text"
      },
      "source": [
        "## 1.6 Ejercicios\n",
        "\n",
        "1. Hacer un módulo con las funciones básicas para una calculadora, suma, resta, producto y división, en la función de división si el denomidador es igual a cero debe de volver a leer el valor del denominador hasta que sea distinto de cero (se recomienda utilizar el ciclo while y el condicional if)\n",
        "\n",
        "2. Hacer una función que el usuario introduzca un número y la función debe de desplegar un triángulo de sumas, *Como ejemplo, si el usuario manda  a la función 4 debeía imprimir el siguiente arreglo*\n",
        "\n",
        "+\n",
        "\n",
        "++\n",
        "\n",
        "+++\n",
        "\n",
        "++++\n"
      ]
    },
    {
      "cell_type": "code",
      "metadata": {
        "id": "KLQ3re8X6FVV",
        "colab_type": "code",
        "colab": {
          "base_uri": "https://localhost:8080/",
          "height": 102
        },
        "outputId": "246a917b-32b5-4850-ac0e-40b52f2009e4"
      },
      "source": [
        "#Problema 1\n",
        "def Suma(A,B):\n",
        "  print (\"El resultado de la suma es: \",A+B)\n",
        "def Resta(A,B):\n",
        "  print (\"El resultado de la resta es: \",A-B)\n",
        "def Multiplicacion(A,B):\n",
        "  print (\"El resultado de la multiplicacion es: \",A*B)\n",
        "def Division(A,B):\n",
        "  while B==0:\n",
        "    B = int(input(\"Cambie el denominador\"))\n",
        "    return Division(A,B)\n",
        "  else:\n",
        "    return A/B\n",
        "Suma(1,2)\n",
        "Resta(7,10)\n",
        "Multiplicacion(3,4)\n",
        "Division(1,0)\n"
      ],
      "execution_count": 67,
      "outputs": [
        {
          "output_type": "stream",
          "text": [
            "El resultado de la suma es:  3\n",
            "El resultado de la resta es:  -3\n",
            "El resultado de la multiplicacion es:  12\n",
            "Cambie el denominador2\n"
          ],
          "name": "stdout"
        },
        {
          "output_type": "execute_result",
          "data": {
            "text/plain": [
              "0.5"
            ]
          },
          "metadata": {
            "tags": []
          },
          "execution_count": 67
        }
      ]
    },
    {
      "cell_type": "code",
      "metadata": {
        "id": "MzRoayN9beY6",
        "colab_type": "code",
        "colab": {
          "base_uri": "https://localhost:8080/",
          "height": 102
        },
        "outputId": "cb47978e-7161-45c1-c76d-dfd75171fe65"
      },
      "source": [
        "#Problema 2\n",
        "def Piramide(num):\n",
        "  for i in range (num+1):\n",
        "    print(\"+\"*i)\n",
        "\n",
        "Piramide(4)"
      ],
      "execution_count": 74,
      "outputs": [
        {
          "output_type": "stream",
          "text": [
            "\n",
            "+\n",
            "++\n",
            "+++\n",
            "++++\n"
          ],
          "name": "stdout"
        }
      ]
    }
  ]
}